{
  "cells": [
    {
      "cell_type": "code",
      "execution_count": 2,
      "metadata": {
        "collapsed": false
      },
      "outputs": [],
      "source": [
        "import numpy as np\n",
        "import matplotlib.pyplot as plt\n",
        "import ProxNest as pxn\n"
      ]
    },
    {
      "cell_type": "code",
      "execution_count": 17,
      "metadata": {},
      "outputs": [],
      "source": [
        "dim = 64\n",
        "\n",
        "mu = np.zeros(dim)\n",
        "cov = np.ones((dim, dim)) + np.eye(dim)\n",
        "\n",
        "mgm1 = pxn.utils.helpers.MultivariateGaussian(mu, cov)\n",
        "\n",
        "\n",
        "x_sample = mgm1.sample(1)\n",
        "\n",
        "y_sample = x_sample + np.random.randn(dim)\n",
        "\n"
      ]
    },
    {
      "cell_type": "code",
      "execution_count": 18,
      "metadata": {},
      "outputs": [
        {
          "ename": "ValueError",
          "evalue": "operands could not be broadcast together with shapes (1000,2) (64,) ",
          "output_type": "error",
          "traceback": [
            "\u001b[0;31m---------------------------------------------------------------------------\u001b[0m",
            "\u001b[0;31mValueError\u001b[0m                                Traceback (most recent call last)",
            "\u001b[1;32m/disk/xray0/tl3/project-nested-diffusion/proxnest/dev/notebooks/gaussian_example.ipynb Cell 3\u001b[0m line \u001b[0;36m2\n\u001b[1;32m      <a href='vscode-notebook-cell://ssh-remote%2Bmsslxai/disk/xray0/tl3/project-nested-diffusion/proxnest/dev/notebooks/gaussian_example.ipynb#W2sdnNjb2RlLXJlbW90ZQ%3D%3D?line=0'>1</a>\u001b[0m \u001b[39m#set_seed(42)\u001b[39;00m\n\u001b[0;32m----> <a href='vscode-notebook-cell://ssh-remote%2Bmsslxai/disk/xray0/tl3/project-nested-diffusion/proxnest/dev/notebooks/gaussian_example.ipynb#W2sdnNjb2RlLXJlbW90ZQ%3D%3D?line=1'>2</a>\u001b[0m x_traj_rev_vp \u001b[39m=\u001b[39m pxn\u001b[39m.\u001b[39;49mutils\u001b[39m.\u001b[39;49mhelpers\u001b[39m.\u001b[39;49mreverse_diffusion_SDE_sampling_mgm_vp(\n\u001b[1;32m      <a href='vscode-notebook-cell://ssh-remote%2Bmsslxai/disk/xray0/tl3/project-nested-diffusion/proxnest/dev/notebooks/gaussian_example.ipynb#W2sdnNjb2RlLXJlbW90ZQ%3D%3D?line=2'>3</a>\u001b[0m     mgm1, \n\u001b[1;32m      <a href='vscode-notebook-cell://ssh-remote%2Bmsslxai/disk/xray0/tl3/project-nested-diffusion/proxnest/dev/notebooks/gaussian_example.ipynb#W2sdnNjb2RlLXJlbW90ZQ%3D%3D?line=3'>4</a>\u001b[0m     sampN\u001b[39m=\u001b[39;49m\u001b[39m1000\u001b[39;49m,\n\u001b[1;32m      <a href='vscode-notebook-cell://ssh-remote%2Bmsslxai/disk/xray0/tl3/project-nested-diffusion/proxnest/dev/notebooks/gaussian_example.ipynb#W2sdnNjb2RlLXJlbW90ZQ%3D%3D?line=4'>5</a>\u001b[0m     nsteps\u001b[39m=\u001b[39;49m\u001b[39m200\u001b[39;49m,\n\u001b[1;32m      <a href='vscode-notebook-cell://ssh-remote%2Bmsslxai/disk/xray0/tl3/project-nested-diffusion/proxnest/dev/notebooks/gaussian_example.ipynb#W2sdnNjb2RlLXJlbW90ZQ%3D%3D?line=5'>6</a>\u001b[0m     xT\u001b[39m=\u001b[39;49m\u001b[39mNone\u001b[39;49;00m\n\u001b[1;32m      <a href='vscode-notebook-cell://ssh-remote%2Bmsslxai/disk/xray0/tl3/project-nested-diffusion/proxnest/dev/notebooks/gaussian_example.ipynb#W2sdnNjb2RlLXJlbW90ZQ%3D%3D?line=6'>7</a>\u001b[0m )\n\u001b[1;32m     <a href='vscode-notebook-cell://ssh-remote%2Bmsslxai/disk/xray0/tl3/project-nested-diffusion/proxnest/dev/notebooks/gaussian_example.ipynb#W2sdnNjb2RlLXJlbW90ZQ%3D%3D?line=9'>10</a>\u001b[0m \u001b[39m# x0_rev_vp = x_traj_rev_vp[:, :, -1]\u001b[39;00m\n\u001b[1;32m     <a href='vscode-notebook-cell://ssh-remote%2Bmsslxai/disk/xray0/tl3/project-nested-diffusion/proxnest/dev/notebooks/gaussian_example.ipynb#W2sdnNjb2RlLXJlbW90ZQ%3D%3D?line=10'>11</a>\u001b[0m \u001b[39m# mgm_samples= mgm1.sample(100000)\u001b[39;00m\n\u001b[1;32m     <a href='vscode-notebook-cell://ssh-remote%2Bmsslxai/disk/xray0/tl3/project-nested-diffusion/proxnest/dev/notebooks/gaussian_example.ipynb#W2sdnNjb2RlLXJlbW90ZQ%3D%3D?line=11'>12</a>\u001b[0m \n\u001b[0;32m   (...)\u001b[0m\n\u001b[1;32m     <a href='vscode-notebook-cell://ssh-remote%2Bmsslxai/disk/xray0/tl3/project-nested-diffusion/proxnest/dev/notebooks/gaussian_example.ipynb#W2sdnNjb2RlLXJlbW90ZQ%3D%3D?line=19'>20</a>\u001b[0m \u001b[39m#     plt.legend(handles=handles)\u001b[39;00m\n\u001b[1;32m     <a href='vscode-notebook-cell://ssh-remote%2Bmsslxai/disk/xray0/tl3/project-nested-diffusion/proxnest/dev/notebooks/gaussian_example.ipynb#W2sdnNjb2RlLXJlbW90ZQ%3D%3D?line=20'>21</a>\u001b[0m \u001b[39m#     figh.show()\u001b[39;00m\n",
            "File \u001b[0;32m/disk/xray0/tl3/project-nested-diffusion/proxnest/ProxNest/utils/helpers.py:84\u001b[0m, in \u001b[0;36mreverse_diffusion_SDE_sampling_mgm_vp\u001b[0;34m(mgm, sampN, nsteps, Lambda, xT)\u001b[0m\n\u001b[1;32m     81\u001b[0m mgm_t \u001b[39m=\u001b[39m diffuse_mgm_vp(mgm, t, Lambda\u001b[39m=\u001b[39m\u001b[39m1\u001b[39m)\n\u001b[1;32m     83\u001b[0m \u001b[39m# Compute the score at state $x_t$, $\\nabla \\log p_t(x_t)$\u001b[39;00m\n\u001b[0;32m---> 84\u001b[0m score_xt \u001b[39m=\u001b[39m mgm_t\u001b[39m.\u001b[39;49mscore(x_traj_rev[:, :, i\u001b[39m-\u001b[39;49m\u001b[39m1\u001b[39;49m])\n\u001b[1;32m     86\u001b[0m \u001b[39m# Implement the one time step update equation with beta(t) = 1 for all t\u001b[39;00m\n\u001b[1;32m     87\u001b[0m x_traj_rev[:, :, i] \u001b[39m=\u001b[39m (\n\u001b[1;32m     88\u001b[0m    (\u001b[39m1\u001b[39m \u001b[39m+\u001b[39m \u001b[39m0.5\u001b[39m \u001b[39m*\u001b[39m dt) \u001b[39m*\u001b[39m x_traj_rev[:, :, i\u001b[39m-\u001b[39m\u001b[39m1\u001b[39m]\n\u001b[1;32m     89\u001b[0m ) \u001b[39m+\u001b[39m (\n\u001b[1;32m     90\u001b[0m    dt \u001b[39m*\u001b[39m score_xt \u001b[39m-\u001b[39m np\u001b[39m.\u001b[39msqrt(dt) \u001b[39m*\u001b[39m z_t\n\u001b[1;32m     91\u001b[0m )\n",
            "File \u001b[0;32m/disk/xray0/tl3/project-nested-diffusion/proxnest/ProxNest/utils/helpers.py:32\u001b[0m, in \u001b[0;36mMultivariateGaussian.score\u001b[0;34m(self, x)\u001b[0m\n\u001b[1;32m     28\u001b[0m \u001b[39mdef\u001b[39;00m \u001b[39mscore\u001b[39m(\u001b[39mself\u001b[39m, x):\n\u001b[1;32m     29\u001b[0m \u001b[39m    \u001b[39m\u001b[39m\"\"\"\u001b[39;00m\n\u001b[1;32m     30\u001b[0m \u001b[39m    Compute the score (gradient of log likelihood) for the given x.\u001b[39;00m\n\u001b[1;32m     31\u001b[0m \u001b[39m    \"\"\"\u001b[39;00m\n\u001b[0;32m---> 32\u001b[0m     \u001b[39mreturn\u001b[39;00m \u001b[39m-\u001b[39m (x \u001b[39m-\u001b[39;49m \u001b[39mself\u001b[39;49m\u001b[39m.\u001b[39;49mmu) \u001b[39m@\u001b[39m \u001b[39mself\u001b[39m\u001b[39m.\u001b[39mprec\n",
            "\u001b[0;31mValueError\u001b[0m: operands could not be broadcast together with shapes (1000,2) (64,) "
          ]
        }
      ],
      "source": [
        "\n",
        "#set_seed(42)\n",
        "x_traj_rev_vp = pxn.utils.helpers.reverse_diffusion_SDE_sampling_mgm_vp(\n",
        "    mgm1, \n",
        "    sampN=1000,\n",
        "    nsteps=200,\n",
        "    xT=None\n",
        ")\n",
        "\n",
        "\n",
        "# x0_rev_vp = x_traj_rev_vp[:, :, -1]\n",
        "# mgm_samples= mgm1.sample(100000)\n",
        "\n",
        "\n",
        "# with plt.xkcd():\n",
        "#     figh, axs = plt.subplots(1, 1, figsize=[6.5, 6])\n",
        "#     handles = []\n",
        "#     kdeplot(x0_rev_vp, \"Samples from Reverse Diffusion VP\", ax=axs, handles=handles)\n",
        "#     kdeplot(mgm_samples, \"Samples from original mgm\", ax=axs, handles=handles)\n",
        "#     gmm_pdf_contour_plot(mgm1, cmap='gray', levels=20)  # the exact pdf contour of gmm\n",
        "#     plt.legend(handles=handles)\n",
        "#     figh.show()\n",
        "\n"
      ]
    },
    {
      "cell_type": "code",
      "execution_count": null,
      "metadata": {},
      "outputs": [],
      "source": []
    },
    {
      "cell_type": "code",
      "execution_count": null,
      "metadata": {},
      "outputs": [],
      "source": []
    },
    {
      "cell_type": "code",
      "execution_count": null,
      "metadata": {},
      "outputs": [],
      "source": []
    }
  ],
  "metadata": {
    "kernelspec": {
      "display_name": "convex_uq",
      "language": "python",
      "name": "python3"
    },
    "language_info": {
      "codemirror_mode": {
        "name": "ipython",
        "version": 3
      },
      "file_extension": ".py",
      "mimetype": "text/x-python",
      "name": "python",
      "nbconvert_exporter": "python",
      "pygments_lexer": "ipython3",
      "version": "3.9.18"
    },
    "vscode": {
      "interpreter": {
        "hash": "2bb75ebd6ceb1eff2ce987e124c91bc6f99e62fd1930d98a82dc138614104eef"
      }
    }
  },
  "nbformat": 4,
  "nbformat_minor": 0
}
